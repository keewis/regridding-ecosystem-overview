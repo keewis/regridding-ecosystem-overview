{
 "cells": [
  {
   "cell_type": "code",
   "execution_count": null,
   "id": "0",
   "metadata": {},
   "outputs": [],
   "source": [
    "import astropy.coordinates\n",
    "import cartopy.crs as ccrs\n",
    "import cdshealpix.nested\n",
    "import cf_xarray  # noqa: F401\n",
    "import dask\n",
    "import matplotlib.pyplot as plt\n",
    "import numpy as np\n",
    "import xarray as xr\n",
    "import xdggs\n",
    "import xesmf\n",
    "\n",
    "xr.set_options(keep_attrs=True, display_expand_attrs=False, display_expand_data=False)"
   ]
  },
  {
   "cell_type": "code",
   "execution_count": null,
   "id": "1",
   "metadata": {},
   "outputs": [],
   "source": [
    "from distributed import Client\n",
    "\n",
    "client = Client()\n",
    "client"
   ]
  },
  {
   "cell_type": "markdown",
   "id": "2",
   "metadata": {},
   "source": [
    "# rectilinear grid: the `air_temperature` example dataset"
   ]
  },
  {
   "cell_type": "code",
   "execution_count": null,
   "id": "3",
   "metadata": {},
   "outputs": [],
   "source": [
    "ds = xr.tutorial.open_dataset(\"air_temperature\", chunks={\"time\": 20})\n",
    "ds"
   ]
  },
  {
   "cell_type": "code",
   "execution_count": null,
   "id": "4",
   "metadata": {},
   "outputs": [],
   "source": [
    "upscaled = ds.interp(lon=np.linspace(200, 330, 1060), lat=np.linspace(15, 75, 500))\n",
    "upscaled"
   ]
  },
  {
   "cell_type": "code",
   "execution_count": null,
   "id": "5",
   "metadata": {},
   "outputs": [],
   "source": [
    "level = 7\n",
    "lon = astropy.coordinates.Longitude(\n",
    "    [200, 225, 250, 275, 300, 330, 330, 300, 275, 250, 225, 200], unit=\"degree\"\n",
    ")\n",
    "lat = astropy.coordinates.Latitude(\n",
    "    [15, 15, 15, 15, 15, 15, 75, 75, 75, 75, 75, 75], unit=\"degree\"\n",
    ")\n",
    "cell_ids, _, _ = cdshealpix.nested.polygon_search(lon, lat, depth=level, flat=True)\n",
    "\n",
    "target_grid = (\n",
    "    xr.Dataset(coords={\"cell_ids\": (\"cells\", cell_ids)})\n",
    "    .dggs.decode({\"grid_name\": \"healpix\", \"level\": level, \"indexing_scheme\": \"nested\"})\n",
    "    .dggs.assign_latlon_coords()\n",
    ")\n",
    "target_grid"
   ]
  },
  {
   "cell_type": "code",
   "execution_count": null,
   "id": "6",
   "metadata": {},
   "outputs": [],
   "source": [
    "%%time\n",
    "regridder = xesmf.Regridder(\n",
    "    upscaled, target_grid, method=\"bilinear\", locstream_out=True\n",
    ")\n",
    "regridder"
   ]
  },
  {
   "cell_type": "code",
   "execution_count": null,
   "id": "7",
   "metadata": {},
   "outputs": [],
   "source": [
    "regridded = regridder.regrid_dataset(\n",
    "    upscaled, skipna=True, keep_attrs=True\n",
    ").dggs.decode()\n",
    "regridded"
   ]
  },
  {
   "cell_type": "code",
   "execution_count": null,
   "id": "8",
   "metadata": {},
   "outputs": [],
   "source": [
    "computed = regridded.isel(time=slice(None, 100)).compute()\n",
    "computed"
   ]
  },
  {
   "cell_type": "code",
   "execution_count": null,
   "id": "9",
   "metadata": {},
   "outputs": [],
   "source": [
    "computed[\"air\"].dggs.explore(alpha=0.8)"
   ]
  },
  {
   "cell_type": "markdown",
   "id": "10",
   "metadata": {},
   "source": [
    "# curvilinear grid: the `rasm` dataset"
   ]
  },
  {
   "cell_type": "code",
   "execution_count": null,
   "id": "11",
   "metadata": {},
   "outputs": [],
   "source": [
    "ds = xr.tutorial.open_dataset(\"rasm\", chunks={\"time\": 8})\n",
    "ds"
   ]
  },
  {
   "cell_type": "code",
   "execution_count": null,
   "id": "12",
   "metadata": {},
   "outputs": [],
   "source": [
    "fig, ax = plt.subplots(subplot_kw={\"projection\": ccrs.NorthPolarStereo()})\n",
    "ds[\"Tair\"].isel(time=1).plot.pcolormesh(\n",
    "    x=\"xc\", y=\"yc\", ax=ax, transform=ccrs.PlateCarree()\n",
    ")"
   ]
  },
  {
   "cell_type": "code",
   "execution_count": null,
   "id": "13",
   "metadata": {},
   "outputs": [],
   "source": [
    "level = 8\n",
    "lon = astropy.coordinates.Longitude(0, unit=\"degree\")\n",
    "lat = astropy.coordinates.Latitude(90, unit=\"degree\")\n",
    "cell_ids, _, _ = cdshealpix.nested.cone_search(\n",
    "    lon, lat, depth=level, flat=True, radius=(90 - 16.5) << astropy.units.degree\n",
    ")\n",
    "\n",
    "target_grid = (\n",
    "    xr.Dataset(coords={\"cell_ids\": (\"cells\", cell_ids)})\n",
    "    .dggs.decode({\"grid_name\": \"healpix\", \"level\": level, \"indexing_scheme\": \"nested\"})\n",
    "    .dggs.assign_latlon_coords()\n",
    ")\n",
    "target_grid"
   ]
  },
  {
   "cell_type": "code",
   "execution_count": null,
   "id": "14",
   "metadata": {},
   "outputs": [],
   "source": [
    "%%time\n",
    "regridder = xesmf.Regridder(ds, target_grid, method=\"bilinear\", locstream_out=True)\n",
    "regridder"
   ]
  },
  {
   "cell_type": "code",
   "execution_count": null,
   "id": "15",
   "metadata": {},
   "outputs": [],
   "source": [
    "regridded = (\n",
    "    regridder.regrid_dataset(ds, keep_attrs=True, skipna=True).dggs.decode().compute()\n",
    ")\n",
    "regridded"
   ]
  },
  {
   "cell_type": "code",
   "execution_count": null,
   "id": "16",
   "metadata": {},
   "outputs": [],
   "source": [
    "regridded[\"Tair\"].dggs.explore(alpha=0.8)"
   ]
  },
  {
   "cell_type": "markdown",
   "id": "17",
   "metadata": {},
   "source": [
    "# "
   ]
  },
  {
   "cell_type": "markdown",
   "id": "18",
   "metadata": {},
   "source": [
    "# curvilinear grid: the `ROMS_example` dataset"
   ]
  },
  {
   "cell_type": "code",
   "execution_count": null,
   "id": "19",
   "metadata": {},
   "outputs": [],
   "source": [
    "ds = xr.tutorial.open_dataset(\"ROMS_example\", chunks={\"time\": 1})\n",
    "ds"
   ]
  },
  {
   "cell_type": "code",
   "execution_count": null,
   "id": "20",
   "metadata": {},
   "outputs": [],
   "source": [
    "fig, ax = plt.subplots(subplot_kw={\"projection\": ccrs.Miller()}, figsize=(12, 12))\n",
    "ds[\"salt\"].isel(ocean_time=0, s_rho=1).drop([\"hc\", \"Vtransform\"]).plot.pcolormesh(\n",
    "    x=\"lon_rho\", y=\"lat_rho\", ax=ax, transform=ccrs.PlateCarree()\n",
    ")"
   ]
  },
  {
   "cell_type": "code",
   "execution_count": null,
   "id": "21",
   "metadata": {},
   "outputs": [],
   "source": [
    "min_lon, max_lon = map(float, dask.compute(ds[\"lon_rho\"].min(), ds[\"lon_rho\"].max()))\n",
    "min_lat, max_lat = map(float, dask.compute(ds[\"lat_rho\"].min(), ds[\"lat_rho\"].max()))"
   ]
  },
  {
   "cell_type": "code",
   "execution_count": null,
   "id": "22",
   "metadata": {},
   "outputs": [],
   "source": [
    "grid_info = xdggs.HealpixInfo.from_dict({\"level\": 12, \"indexing_scheme\": \"nested\"})"
   ]
  },
  {
   "cell_type": "code",
   "execution_count": null,
   "id": "23",
   "metadata": {},
   "outputs": [],
   "source": [
    "lon = astropy.coordinates.Longitude([min_lon, max_lon, max_lon, min_lon], unit=\"degree\")\n",
    "lat = astropy.coordinates.Latitude([min_lat, min_lat, max_lat, max_lat], unit=\"degree\")\n",
    "cell_ids, _, _ = cdshealpix.nested.polygon_search(\n",
    "    lon, lat, depth=grid_info.level, flat=True\n",
    ")"
   ]
  },
  {
   "cell_type": "code",
   "execution_count": null,
   "id": "24",
   "metadata": {},
   "outputs": [],
   "source": [
    "target_grid = (\n",
    "    xr.Dataset(coords={\"cell_ids\": (\"cells\", cell_ids)})\n",
    "    .dggs.decode(grid_info)\n",
    "    .dggs.assign_latlon_coords()\n",
    ")\n",
    "target_grid"
   ]
  },
  {
   "cell_type": "code",
   "execution_count": null,
   "id": "25",
   "metadata": {},
   "outputs": [],
   "source": [
    "%%time\n",
    "regridder = xesmf.Regridder(ds, target_grid, method=\"bilinear\", locstream_out=True)\n",
    "regridder"
   ]
  },
  {
   "cell_type": "code",
   "execution_count": null,
   "id": "26",
   "metadata": {},
   "outputs": [],
   "source": [
    "regridded = (\n",
    "    regridder.regrid_dataset(ds, keep_attrs=True, skipna=True)\n",
    "    .dggs.decode()\n",
    "    .compute()\n",
    "    .where(lambda ds: ds.notnull(), drop=True)\n",
    ")\n",
    "regridded"
   ]
  },
  {
   "cell_type": "code",
   "execution_count": null,
   "id": "27",
   "metadata": {},
   "outputs": [],
   "source": [
    "regridded[\"salt\"].dggs.explore(alpha=0.8)"
   ]
  }
 ],
 "metadata": {
  "language_info": {
   "codemirror_mode": {
    "name": "ipython",
    "version": 3
   },
   "file_extension": ".py",
   "mimetype": "text/x-python",
   "name": "python",
   "nbconvert_exporter": "python",
   "pygments_lexer": "ipython3",
   "version": "3.12.10"
  }
 },
 "nbformat": 4,
 "nbformat_minor": 5
}
