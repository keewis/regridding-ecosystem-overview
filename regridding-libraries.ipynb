{
 "cells": [
  {
   "cell_type": "markdown",
   "id": "0",
   "metadata": {},
   "source": [
    "# geospatial interpolation packages in the pangeo ecosystem\n",
    "\n",
    "(Inspired by the [warp-resampling](https://developmentseed.org/warp-resample-profiling/) profiling site)\n",
    "\n",
    "Considered packages:\n",
    "- rioxarray\n",
    "- odc-geo\n",
    "- pyresample\n",
    "- xesmf\n",
    "- xarray-regrid\n",
    "- verde"
   ]
  },
  {
   "cell_type": "markdown",
   "id": "1",
   "metadata": {},
   "source": [
    "## rioxarray\n",
    "\n",
    "`xarray` wrapper for `rasterio`, designed for satellite imagery."
   ]
  },
  {
   "cell_type": "markdown",
   "id": "2",
   "metadata": {},
   "source": [
    "## odc-geo\n",
    "\n",
    "Another `rasterio` wrapper, part of the `odc` set of libraries."
   ]
  },
  {
   "cell_type": "markdown",
   "id": "3",
   "metadata": {},
   "source": [
    "## pyresample\n",
    "\n",
    "Resampling library specialized on satellite imagery."
   ]
  },
  {
   "cell_type": "markdown",
   "id": "4",
   "metadata": {},
   "source": [
    "## xesmf\n",
    "\n",
    "General purpose regridding library, wrapper around the ESMF fortran library."
   ]
  },
  {
   "cell_type": "markdown",
   "id": "5",
   "metadata": {},
   "source": [
    "## xarray-regrid\n",
    "\n",
    "Library specialized on the interpolation between rectilinear grids."
   ]
  },
  {
   "cell_type": "markdown",
   "id": "6",
   "metadata": {},
   "source": [
    "## verde\n",
    "\n",
    "Package for interpolating scattered data to a grid."
   ]
  },
  {
   "cell_type": "markdown",
   "id": "7",
   "metadata": {},
   "source": [
    "## demo plans\n",
    "\n",
    "interpolation operation:\n",
    "- reprojection (rioxarray, odc-geo, pyresample)\n",
    "- grid interpolation (xesmf, xarray-regrid)\n",
    "- scattered point interpolation (xesmf, verde)\n",
    "\n",
    "grid types for grid interpolation:\n",
    "- rectilinear\n",
    "- curvilinear\n",
    "- dggs (healpix, h3)\n",
    "- unstructured?\n",
    "\n",
    "datasets\n",
    "- some satellite image (geotiff / cog):\n",
    "  - e.g. https://radiantearth.github.io/stac-browser/#/external/planetarycomputer.microsoft.com/api/stac/v1/collections/sentinel-2-l2a\n",
    "- model output on a rectilinear grid (copernicus?)\n",
    "  - e.g. DMI-ARC-SEAICE_TEMP-L4-NRT-OBS\n",
    "- scattered in-situ data (one of TS in-situ scans?)\n",
    "  - GL_TS_TS_FPCS_202205 (after filtering out the insane jumps)"
   ]
  },
  {
   "cell_type": "markdown",
   "id": "8",
   "metadata": {},
   "source": [
    "strategy:\n",
    "1. demonstrate / compare reprojection libraries\n",
    "2. regridding between rectilinear, curvilinear, dggs, unstructured, and compare libraries\n",
    "3. unstructured points → surface"
   ]
  }
 ],
 "metadata": {
  "language_info": {
   "codemirror_mode": {
    "name": "ipython",
    "version": 3
   },
   "file_extension": ".py",
   "mimetype": "text/x-python",
   "name": "python",
   "nbconvert_exporter": "python",
   "pygments_lexer": "ipython3",
   "version": "3.12.10"
  }
 },
 "nbformat": 4,
 "nbformat_minor": 5
}
